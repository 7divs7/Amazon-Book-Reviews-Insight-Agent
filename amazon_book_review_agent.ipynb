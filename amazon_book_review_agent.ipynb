{
 "cells": [
  {
   "cell_type": "markdown",
   "metadata": {
    "application/vnd.databricks.v1+cell": {
     "cellMetadata": {},
     "inputWidgets": {},
     "nuid": "8060c9a2-3cb1-42e1-a71e-cbb257fc0efb",
     "showTitle": false,
     "tableResultSettingsMap": {},
     "title": ""
    }
   },
   "source": [
    "##Amazon Book Review Insights Agent"
   ]
  },
  {
   "cell_type": "code",
   "execution_count": 0,
   "metadata": {
    "application/vnd.databricks.v1+cell": {
     "cellMetadata": {
      "byteLimit": 2048000,
      "rowLimit": 10000
     },
     "collapsed": true,
     "inputWidgets": {},
     "nuid": "ed5e8fbe-ebec-417e-b08a-8233ad68e855",
     "showTitle": false,
     "tableResultSettingsMap": {},
     "title": ""
    }
   },
   "outputs": [
    {
     "output_type": "stream",
     "name": "stdout",
     "output_type": "stream",
     "text": [
      "\u001B[43mNote: you may need to restart the kernel using %restart_python or dbutils.library.restartPython() to use updated packages.\u001B[0m\n"
     ]
    }
   ],
   "source": [
    "%pip install -U -qqqq mlflow-skinny[databricks] databricks-langchain databricks-agents uv langgraph==0.3.4\n",
    "dbutils.library.restartPython()"
   ]
  },
  {
   "cell_type": "code",
   "execution_count": 0,
   "metadata": {
    "application/vnd.databricks.v1+cell": {
     "cellMetadata": {
      "byteLimit": 2048000,
      "rowLimit": 10000
     },
     "collapsed": true,
     "inputWidgets": {},
     "nuid": "97dfa32a-2b46-4cdf-a658-b417a4cd42e8",
     "showTitle": false,
     "tableResultSettingsMap": {},
     "title": ""
    }
   },
   "outputs": [],
   "source": [
    "from langchain_community.chat_models import ChatDatabricks\n",
    "from langchain.tools import Tool\n",
    "from pyspark.sql import SparkSession\n",
    "from langchain_core.prompts import PromptTemplate\n",
    "from langchain.schema.runnable import RunnableLambda, RunnableParallel\n",
    "from langchain_core.output_parsers import StrOutputParser, PydanticOutputParser\n",
    "from langchain.prompts import MessagesPlaceholder\n",
    "import mlflow\n",
    "from typing import Optional\n",
    "from langchain_core.messages import HumanMessage, trim_messages, AnyMessage, SystemMessage, ToolMessage, AIMessage\n",
    "from langchain.agents.agent_toolkits import SQLDatabaseToolkit\n",
    "from langchain.agents.agent_types import AgentType\n",
    "from databricks.sdk import WorkspaceClient\n",
    "from langchain_core.tools import tool\n",
    "from langchain_core.utils.function_calling import convert_to_openai_function\n",
    "from langchain.agents import AgentExecutor, create_tool_calling_agent\n",
    "from langchain_core.prompts import ChatPromptTemplate\n",
    "import databricks.sql as sql\n",
    "import base64\n",
    "from databricks.sdk import WorkspaceClient\n",
    "from databricks_langchain.genie import GenieAgent\n",
    "from databricks.sdk import WorkspaceClient\n",
    "from pydantic import BaseModel\n",
    "from langgraph.graph import END, StateGraph\n",
    "from langgraph.graph.state import CompiledStateGraph\n",
    "\n",
    "from mlflow.langchain.chat_agent_langgraph import ChatAgentState\n",
    "from mlflow.pyfunc import ChatAgent\n",
    "from mlflow.types.agent import (\n",
    "    ChatAgentChunk,\n",
    "    ChatAgentMessage,\n",
    "    ChatAgentResponse,\n",
    "    ChatContext,\n",
    ")\n",
    "\n",
    "from typing import Any, Generator, Optional, Sequence, Union"
   ]
  },
  {
   "cell_type": "code",
   "execution_count": 0,
   "metadata": {
    "application/vnd.databricks.v1+cell": {
     "cellMetadata": {
      "byteLimit": 2048000,
      "rowLimit": 10000
     },
     "inputWidgets": {},
     "nuid": "8f519ffa-3ac7-4bb6-b822-8a845a319623",
     "showTitle": false,
     "tableResultSettingsMap": {},
     "title": ""
    }
   },
   "outputs": [
    {
     "output_type": "stream",
     "name": "stderr",
     "output_type": "stream",
     "text": [
      "/home/spark-cc21961a-2e01-4c84-8d6e-35/.ipykernel/5254/command-8341903941774088-1283502942:2: LangChainDeprecationWarning: The class `ChatDatabricks` was deprecated in LangChain 0.3.3 and will be removed in 1.0. An updated version of the class exists in the :class:`~databricks-langchain package and should be used instead. To use it run `pip install -U :class:`~databricks-langchain` and import as `from :class:`~databricks_langchain import ChatDatabricks``.\n  llm = ChatDatabricks(endpoint=LLM_ENDPOINT_CLAUDE)\n"
     ]
    }
   ],
   "source": [
    "LLM_ENDPOINT_CLAUDE = \"databricks-claude-3-7-sonnet\"\n",
    "llm = ChatDatabricks(endpoint=LLM_ENDPOINT_CLAUDE)"
   ]
  },
  {
   "cell_type": "markdown",
   "metadata": {
    "application/vnd.databricks.v1+cell": {
     "cellMetadata": {},
     "inputWidgets": {},
     "nuid": "cdf102cc-9e35-4d05-81b8-14cc8162c7fc",
     "showTitle": false,
     "tableResultSettingsMap": {},
     "title": ""
    }
   },
   "source": [
    "###Define Planner Agent"
   ]
  },
  {
   "cell_type": "code",
   "execution_count": 0,
   "metadata": {
    "application/vnd.databricks.v1+cell": {
     "cellMetadata": {
      "byteLimit": 2048000,
      "rowLimit": 10000
     },
     "inputWidgets": {},
     "nuid": "08740eee-1520-4ace-a207-16abee63cc82",
     "showTitle": false,
     "tableResultSettingsMap": {},
     "title": ""
    }
   },
   "outputs": [],
   "source": [
    "def planner_agent(state):\n",
    "    system_prompt = \"\"\"\n",
    "    You are a task planner agent. You are responsible for providing the correct task prompt to the below agents based on the user question and the capabilities of each agent.\n",
    "\n",
    "    Agent catalog: \n",
    "    Genie Agent: \n",
    "    - This is an enterprise-grade natural language data agent that can generate SQL queries with schema awarenes for the data it has access to. This genie agent can answer questions about user reviews in the US region of Amazon products (category: Books) and explain the ratings given. \n",
    "    - Think of Genie as a data retrieval tool which can either provide aggregated responses or can retrieve the correct data subset which will be used by the Analyzer agent to perform further analysis and reasoning. \n",
    "    - Ensure that Genie returns all the relevant fields in its response (e.g., customer_id, product_title, review_headline, review_body, review_date, star_rating, helpful_votes, total_votes)\n",
    "    - Genie has access to the \"reviews_data\" table which has the below schema.\n",
    "        customer_id\n",
    "        bigint\n",
    "        Represents a unique identifier for each customer who submitted a review, allowing for tracking and analysis of individual customer behavior.\n",
    "\n",
    "        review_id\n",
    "        string\n",
    "        A unique identifier for each review, which can be used to reference specific feedback provided by customers.\n",
    "\n",
    "        product_id\n",
    "        string\n",
    "        Identifies the specific product being reviewed, enabling analysis of product performance and customer satisfaction on a per-product basis.\n",
    "\n",
    "        product_title\n",
    "        string\n",
    "        The title of the book/ product as listed on Amazon, providing context for the review and helping to identify the book in question.\n",
    "\n",
    "        star_rating\n",
    "        bigint\n",
    "        Indicates the rating given by the customer, on a scale typically from 1 to 5 stars, reflecting their overall satisfaction with the product/ book.\n",
    "\n",
    "        helpful_votes\n",
    "        bigint\n",
    "        The number of users who found the review helpful, which can indicate the review's impact and relevance to other customers.\n",
    "\n",
    "        total_votes\n",
    "        bigint\n",
    "        The total number of votes received for the review, including both helpful and unhelpful votes, providing insight into the review's reception.\n",
    "\n",
    "        verified_purchase\n",
    "        string\n",
    "        Indicates whether the review was submitted by a customer who purchased the product/ book, adding credibility to the feedback.\n",
    "\n",
    "        review_headline\n",
    "        string\n",
    "        A brief summary or title of the review, capturing the essence of the customer's feedback and drawing attention to key points.\n",
    "\n",
    "        review_body\n",
    "        string\n",
    "        The detailed content of the review where customers express their thoughts, experiences, and opinions about the product/ book.\n",
    "\n",
    "        review_date\n",
    "        timestamp\n",
    "        The date when the review was submitted, allowing for analysis of trends over time and the recency of customer feedback.\n",
    "\n",
    "\n",
    "    Analyzer Agent: \n",
    "    - This is a reasoning agent which performs complex tasks like sentiment analysis, trend analysis of the positive or negative reviews across various products over time. \n",
    "\n",
    "    Ensure the task prompts generated for each agent are accurate. \n",
    "\n",
    "    Your output should be only the task prompts that each agent will use to perform its respective tasks. return in JSON format\n",
    "        genie_prompt: <str>, \n",
    "        analyzer_prompt: <str>\n",
    "    \"\"\"\n",
    "\n",
    "    class TaskPrompt(BaseModel):\n",
    "        genie_prompt: str\n",
    "        analyzer_prompt: str\n",
    "\n",
    "    \n",
    "    parser = PydanticOutputParser(pydantic_object=TaskPrompt)\n",
    "\n",
    "\n",
    "    preprocessor = RunnableLambda(lambda state: [{\"role\": \"system\", \"content\": system_prompt}] + state[\"messages\"])\n",
    "\n",
    "\n",
    "    planner_chain = preprocessor | llm | parser\n",
    "    response = planner_chain.invoke(state)\n",
    "    \n",
    "    genie_prompt = response.genie_prompt\n",
    "    analyzer_prompt = response.analyzer_prompt\n",
    "\n",
    "    print(\"\\n\\n[PLANNER]: Augmented prompts generated for both Genie and Analyzer\")\n",
    "\n",
    "    return {\n",
    "        \"genie_prompt\": genie_prompt,\n",
    "        \"analyzer_prompt\": analyzer_prompt\n",
    "    }"
   ]
  },
  {
   "cell_type": "markdown",
   "metadata": {
    "application/vnd.databricks.v1+cell": {
     "cellMetadata": {},
     "inputWidgets": {},
     "nuid": "abcab745-902a-4786-a70c-7172595ba4a6",
     "showTitle": false,
     "tableResultSettingsMap": {},
     "title": ""
    }
   },
   "source": [
    "##Define Genie Agent"
   ]
  },
  {
   "cell_type": "code",
   "execution_count": 0,
   "metadata": {
    "application/vnd.databricks.v1+cell": {
     "cellMetadata": {
      "byteLimit": 2048000,
      "rowLimit": 10000
     },
     "inputWidgets": {},
     "nuid": "75fe2a46-5ee3-499b-8630-a89a4ae427f7",
     "showTitle": false,
     "tableResultSettingsMap": {},
     "title": ""
    }
   },
   "outputs": [
    {
     "output_type": "display_data",
     "data": {
      "application/databricks.mlflow.trace": "\"tr-5f809761d8ab090d128359b0110355e8\"",
      "text/plain": [
       "Trace(trace_id=tr-5f809761d8ab090d128359b0110355e8)"
      ]
     },
     "metadata": {},
     "output_type": "display_data"
    }
   ],
   "source": [
    "GENIE_SPACE_ID = <YOUR GENIE SPACE ID>\n",
    "DATABRICKS_HOST = <YOUR DATABRICKS HOST>\n",
    "GENIE_PAT = <YOUR DATABRICKS PAT>\n",
    "genie_agent_description = \"This genie agent can answer questions about user reviews of Amazon books and explain the ratings given. \"\n",
    "\n",
    "genie_runnable = GenieAgent(\n",
    "    genie_space_id=GENIE_SPACE_ID,\n",
    "    genie_agent_name=\"Genie\",\n",
    "    description=genie_agent_description\n",
    ")\n",
    "\n",
    "def genie_agent(state):\n",
    "    updated_state = ChatAgentState()\n",
    "    updated_state[\"messages\"] = [{\n",
    "        \"role\": \"user\",\n",
    "        \"content\": state[\"genie_prompt\"]\n",
    "    }]\n",
    "\n",
    "    response = genie_runnable.invoke(updated_state)\n",
    "\n",
    "    print(\"\\n\\n[GENIE]: Data subset retrieved\")\n",
    "\n",
    "    return {\n",
    "        \"genie_response\": response[\"messages\"][0].content,\n",
    "        \"analyzer_prompt\": state[\"analyzer_prompt\"]\n",
    "    }"
   ]
  },
  {
   "cell_type": "markdown",
   "metadata": {
    "application/vnd.databricks.v1+cell": {
     "cellMetadata": {},
     "inputWidgets": {},
     "nuid": "dad94885-2c1c-42a5-b903-c8471f81aa1b",
     "showTitle": false,
     "tableResultSettingsMap": {},
     "title": ""
    }
   },
   "source": [
    "###Define Analyzer Agent"
   ]
  },
  {
   "cell_type": "code",
   "execution_count": 0,
   "metadata": {
    "application/vnd.databricks.v1+cell": {
     "cellMetadata": {
      "byteLimit": 2048000,
      "rowLimit": 10000
     },
     "inputWidgets": {},
     "nuid": "b48ea744-35a7-4d8b-94b9-091191786d5e",
     "showTitle": false,
     "tableResultSettingsMap": {},
     "title": ""
    }
   },
   "outputs": [],
   "source": [
    "def analyzer_agent(state):\n",
    "    genie_content = state[\"genie_response\"]\n",
    "    user_query = state[\"messages\"][0][\"content\"]\n",
    "    system_prompt= f\"\"\"\n",
    "    You are a sentiment/ reviews analyzer agent who is tasked with answering questions about the sentiment (positive, negative, neutral) for the customer reviews based out of US for Amazon products in the Books category. You need to answer the user questions accurately. Provide a comprehensive analysis of the customer feedbacks.\n",
    "    \"\"\"\n",
    "    preprocessor = RunnableLambda(\n",
    "            lambda state: [{\"role\": \"system\", \"content\": system_prompt}]\n",
    "            + state[\"messages\"] + [{\"role\": \"user\", \"content\": user_query + \"\\nBelow is the table you need to analyze.\" + genie_content}] \n",
    "        )\n",
    "\n",
    "    model_runnable = preprocessor | llm | RunnableLambda(lambda result: {\"messages\": [result]})\n",
    "    result = model_runnable.invoke(state)\n",
    "\n",
    "    print(\"\\n\\n[ANALYZER]: Final insights generated.\")\n",
    "    \n",
    "    return {\n",
    "        \"messages\": [\n",
    "            {\n",
    "                \"role\": \"assistant\",\n",
    "                \"content\": result[\"messages\"][-1].content,\n",
    "                \"name\": \"Analyzer\"\n",
    "            }\n",
    "        ]\n",
    "    }"
   ]
  },
  {
   "cell_type": "markdown",
   "metadata": {
    "application/vnd.databricks.v1+cell": {
     "cellMetadata": {},
     "inputWidgets": {},
     "nuid": "5642ce96-1df8-417d-a59f-c567f10e8887",
     "showTitle": false,
     "tableResultSettingsMap": {},
     "title": ""
    }
   },
   "source": [
    "##Build the graph"
   ]
  },
  {
   "cell_type": "code",
   "execution_count": 0,
   "metadata": {
    "application/vnd.databricks.v1+cell": {
     "cellMetadata": {
      "byteLimit": 2048000,
      "rowLimit": 10000
     },
     "inputWidgets": {},
     "nuid": "6740ccbc-b651-4efd-a5ea-21d177ba1dbd",
     "showTitle": false,
     "tableResultSettingsMap": {},
     "title": ""
    }
   },
   "outputs": [],
   "source": [
    "class AgentState(ChatAgentState):\n",
    "    genie_prompt: str\n",
    "    analyzer_prompt: str\n",
    "    genie_response: str\n",
    "\n",
    "workflow = StateGraph(AgentState)\n",
    "workflow.add_node(\"Genie\", genie_agent)\n",
    "workflow.add_node(\"Analyzer\", analyzer_agent)\n",
    "workflow.add_node(\"Planner\", planner_agent)\n",
    "\n",
    "workflow.set_entry_point(\"Planner\")\n",
    "workflow.add_edge(\"Planner\", \"Genie\")\n",
    "workflow.add_edge(\"Genie\", \"Analyzer\")\n",
    "\n",
    "workflow.set_finish_point(\"Analyzer\")\n",
    "\n",
    "multi_agent = workflow.compile()\n",
    "\n",
    "\n",
    "class LangGraphChatAgent(ChatAgent):\n",
    "    def __init__(self, agent: CompiledStateGraph):\n",
    "        self.agent = agent\n",
    "\n",
    "    def predict(\n",
    "        self,\n",
    "        messages: list[ChatAgentMessage],\n",
    "        context: Optional[ChatContext] = None,\n",
    "        custom_inputs: Optional[dict[str, Any]] = None,\n",
    "    ) -> ChatAgentResponse:\n",
    "        request = {\"messages\": self._convert_messages_to_dict(messages)}\n",
    "\n",
    "        messages = []\n",
    "        for event in self.agent.stream(request, stream_mode=\"updates\"):\n",
    "            for node_data in event.values():\n",
    "                messages.extend(\n",
    "                    ChatAgentMessage(**msg) for msg in node_data.get(\"messages\", [])\n",
    "                )\n",
    "        return ChatAgentResponse(messages=messages)\n",
    "\n",
    "    def predict_stream(\n",
    "        self,\n",
    "        messages: list[ChatAgentMessage],\n",
    "        context: Optional[ChatContext] = None,\n",
    "        custom_inputs: Optional[dict[str, Any]] = None,\n",
    "    ) -> Generator[ChatAgentChunk, None, None]:\n",
    "        request = {\"messages\": self._convert_messages_to_dict(messages)}\n",
    "        for event in self.agent.stream(request, stream_mode=\"updates\"):\n",
    "            for node_data in event.values():\n",
    "                yield from (\n",
    "                    ChatAgentChunk(**{\"delta\": msg}) for msg in node_data[\"messages\"]\n",
    "                )\n",
    "\n",
    "mlflow.langchain.autolog()\n",
    "AGENT = LangGraphChatAgent(multi_agent)\n",
    "mlflow.models.set_model(AGENT)"
   ]
  },
  {
   "cell_type": "markdown",
   "metadata": {
    "application/vnd.databricks.v1+cell": {
     "cellMetadata": {},
     "inputWidgets": {},
     "nuid": "8fbeea9b-19ae-4fb5-9260-42ac08dd87a5",
     "showTitle": false,
     "tableResultSettingsMap": {},
     "title": ""
    }
   },
   "source": [
    "##Test the Agent"
   ]
  },
  {
   "cell_type": "code",
   "execution_count": 0,
   "metadata": {
    "application/vnd.databricks.v1+cell": {
     "cellMetadata": {
      "byteLimit": 2048000,
      "rowLimit": 10000
     },
     "inputWidgets": {},
     "nuid": "20ca03e2-c22c-4770-9a7a-aa566b2afdc5",
     "showTitle": false,
     "tableResultSettingsMap": {},
     "title": ""
    }
   },
   "outputs": [
    {
     "output_type": "stream",
     "name": "stdout",
     "output_type": "stream",
     "text": [
      "\n\n[PLANNER]: Augmented prompts generated for both Genie and Analyzer\n\n\n[GENIE]: Data subset retrieved\n\n\n[ANALYZER]: Final insights generated.\n"
     ]
    },
    {
     "output_type": "execute_result",
     "data": {
      "text/plain": [
       "ChatAgentResponse(messages=[ChatAgentMessage(role='assistant', content='# Customer Sentiment Analysis: Harry Potter Books\\n\\nBased on the reviews provided, here\\'s a comprehensive analysis of what customers are saying about Harry Potter books:\\n\\n## Overall Sentiment\\n\\nThe majority of reviews for Harry Potter books are overwhelmingly positive, with most books receiving 4-5 star ratings. Fans express deep appreciation for J.K. Rowling\\'s storytelling abilities, character development, and the immersive magical world she created.\\n\\n## Book-Specific Feedback\\n\\n### Highest Rated Book in the Series\\n\\nBased on the review data provided, **Harry Potter and the Prisoner of Azkaban (Book 3)** appears to be the highest rated book in the series. Many reviewers specifically mention it as their favorite, with one calling it \"flawless, superb\" and another describing it as \"the most artistic and creatively captivating in the series thus far.\"\\n\\nOther highly rated books include:\\n- **Harry Potter and the Goblet of Fire (Book 4)** - frequently mentioned as a fan favorite\\n- **Harry Potter and the Sorcerer\\'s Stone (Book 1)** - praised for setting up the series excellently\\n\\n### Book-Specific Sentiments\\n\\n1. **Harry Potter and the Sorcerer\\'s Stone**: Praised for being an excellent introduction to the series, with reviewers noting it\\'s \"great for young and old\" and \"something the whole family can read and discuss.\"\\n\\n2. **Harry Potter and the Chamber of Secrets**: Described as a \"great sequel to Sorcerer\\'s Stone\" with exciting elements like the introduction of Dobby and deeper exploration of Voldemort\\'s past.\\n\\n3. **Harry Potter and the Prisoner of Azkaban**: Consistently mentioned as a favorite, with praise for its plot twists and character development.\\n\\n4. **Harry Potter and the Goblet of Fire**: Many reviewers consider this the most exciting book in the series, with one noting it\\'s \"the most gripping book in the whole series.\"\\n\\n5. **Harry Potter and the Order of the Phoenix**: Mixed reviews - some found it too long with Harry being too angry, while others appreciated the deeper character development.\\n\\n6. **Harry Potter and the Half-Blood Prince**: Opinions vary widely - some call it \"the best book in the Harry Potter series\" while others found it \"disappointing\" or \"lacking imagination.\" Many appreciated the darker tone and exploration of Voldemort\\'s past.\\n\\n## Common Themes in Positive Reviews\\n\\n1. **Storytelling Quality**: Readers consistently praise Rowling\\'s ability to create engaging, page-turning narratives.\\n\\n2. **Character Development**: Many reviews highlight how the characters mature throughout the series, with Harry\\'s growth from book to book being particularly appreciated.\\n\\n3. **World-Building**: The richness and detail of the wizarding world receives frequent praise.\\n\\n4. **Emotional Impact**: Many readers mention being moved to tears, particularly in later books.\\n\\n5. **Appeal Across Ages**: Numerous reviews mention that the books are enjoyed by both children and adults.\\n\\n## Common Criticisms\\n\\n1. **Length of Later Books**: Some readers felt books 5 and 6 were unnecessarily long with sections that didn\\'t advance the plot.\\n\\n2. **Harry\\'s Attitude**: In Book 5 particularly, some readers disliked Harry\\'s angry demeanor.\\n\\n3. **Darker Tone**: While many appreciated the series growing darker as it progressed, some parents expressed concern about the content for younger readers.\\n\\n4. **Book Quality**: Some complaints about the physical quality of the books, particularly the binding of the hardcover editions.\\n\\n## Audiobook Reception\\n\\nThe audiobook versions narrated by Jim Dale receive exceptional praise. Multiple reviewers specifically highlight Dale\\'s performance, with comments like \"Jim Dale is probably the best narrator one can find on CD today\" and praise for his ability to give distinct voices to numerous characters.\\n\\nIn summary, the Harry Potter series is beloved by readers of all ages, with the third book (Prisoner of Azkaban) appearing to be the highest rated in the series based on the available reviews. The books are appreciated for their engaging storytelling, rich world-building, and character development, though some readers found the later books to be overly long.', name='Analyzer', id='5882d424-66cb-4993-8f36-a196944ba7d8', tool_calls=None, tool_call_id=None, attachments=None)], finish_reason=None, custom_outputs=None, usage=None)"
      ]
     },
     "execution_count": 14,
     "metadata": {},
     "output_type": "execute_result"
    },
    {
     "output_type": "display_data",
     "data": {
      "application/databricks.mlflow.trace": "\"tr-1a0e7f69b38cd9f4da4120f80e668389\"",
      "text/plain": [
       "Trace(trace_id=tr-1a0e7f69b38cd9f4da4120f80e668389)"
      ]
     },
     "metadata": {},
     "output_type": "display_data"
    }
   ],
   "source": [
    "AGENT.predict({\"messages\": [\n",
    "  {\n",
    "    \"role\": \"user\",\n",
    "    \"content\": \"What are customers saying about Harry Potter books? Which book in the series is the highest rated?\"\n",
    "  }\n",
    "]})"
   ]
  },
  {
   "cell_type": "code",
   "execution_count": 0,
   "metadata": {
    "application/vnd.databricks.v1+cell": {
     "cellMetadata": {
      "byteLimit": 2048000,
      "rowLimit": 10000
     },
     "inputWidgets": {},
     "nuid": "416c7bd9-23a3-461d-93d5-11b58889aa40",
     "showTitle": false,
     "tableResultSettingsMap": {},
     "title": ""
    }
   },
   "outputs": [
    {
     "output_type": "stream",
     "name": "stdout",
     "output_type": "stream",
     "text": [
      "\n\n[PLANNER]: Augmented prompts generated for both Genie and Analyzer\n\n\n[GENIE]: Data subset retrieved\n\n\n[ANALYZER]: Final insights generated.\n"
     ]
    },
    {
     "output_type": "execute_result",
     "data": {
      "text/plain": [
       "ChatAgentResponse(messages=[ChatAgentMessage(role='assistant', content='# Books Most Often Described as Life-Changing in Reviews\\n\\nBased on the customer reviews provided, several books are explicitly described as \"life-changing\" by reviewers. Here\\'s a comprehensive analysis of which books are most frequently mentioned as having transformative effects on readers:\\n\\n## Top Life-Changing Books\\n\\n1. **Boundaries: When to Say YES, When to Say NO, To Take Control of Your Life**\\n   - Multiple reviewers directly state this book is \"life-changing\"\\n   - One reviewer calls it \"the most life-changing book I have ever read (second to the Bible)\"\\n   - Described as providing practical guidance for setting healthy boundaries\\n\\n2. **Created to be His Help Meet: Discover How God Can Make Your Marriage Glorious**\\n   - Reviewers mention it \"changed my life\" and had \"truly life-changing\" effects\\n   - Described as completely reconstructing thinking about marriage relationships\\n\\n3. **The Search For Significance: Seeing Your True Worth Through God\\'s Eyes**\\n   - Described as \"nothing short of powerful and life-changing for the reader\"\\n   - Reviewer has led multiple study groups with this book\\n\\n4. **Journey of Souls/Destiny of Souls** (by Michael Newton)\\n   - Described as \"life-changing books and truly groundbreaking research\"\\n   - One reviewer states \"These are life-changing books\" that \"changed my life in so many ways\"\\n\\n5. **Heaven** (by Randy Alcorn)\\n   - Reviewer quotes cover: \"Other than the Bible, this may be the most life-changing book you will ever read\"\\n   - Reviewer confirms this assessment after reading\\n\\n6. **The Peacemaker: A Biblical Guide to Resolving Personal Conflict**\\n   - Ranks in reviewer\\'s \"top 10 life-changing books\"\\n   - Described as providing practical guidance for conflict resolution\\n\\n7. **The Highly Sensitive Person: How to Thrive When the World Overwhelms You**\\n   - Reviewer states: \"There are a few books that have made a life-changing impact on me... This book was one of them\"\\n\\nOther books mentioned as life-changing include:\\n- **Going Deeper: How to Make Sense of Your Life When Your Life Makes No Sense**\\n- **Ishmael: A Novel**\\n- **Sinfully Vegan: Over 140 Decadent Desserts to Satisfy Every Vegan\\'s Sweet Tooth**\\n- **The Trigger Point Therapy Workbook**\\n- **Padre Pio: Man of Hope**\\n- **Velvet Elvis: Repainting the Christian Faith**\\n\\n## Common Themes in Life-Changing Books\\n\\nThe books most often described as life-changing tend to fall into several categories:\\n\\n1. **Spiritual/Religious Growth** - Books that help readers deepen their faith or spiritual understanding\\n2. **Self-Help/Personal Development** - Books that provide practical tools for improving one\\'s life\\n3. **Relationship Guidance** - Books focused on improving interpersonal relationships\\n4. **Health & Wellness** - Books that address physical or mental health issues\\n5. **Alternative Perspectives** - Books that challenge conventional thinking or provide new worldviews\\n\\nMany reviewers mention these books providing clarity, hope, practical solutions to problems, or completely new ways of thinking about themselves and their relationships.', name='Analyzer', id='51be12f8-89a8-450f-9641-de2da98c1cf0', tool_calls=None, tool_call_id=None, attachments=None)], finish_reason=None, custom_outputs=None, usage=None)"
      ]
     },
     "execution_count": 15,
     "metadata": {},
     "output_type": "execute_result"
    },
    {
     "output_type": "display_data",
     "data": {
      "application/databricks.mlflow.trace": "\"tr-60b85405389b007875d341d1bc6ce104\"",
      "text/plain": [
       "Trace(trace_id=tr-60b85405389b007875d341d1bc6ce104)"
      ]
     },
     "metadata": {},
     "output_type": "display_data"
    }
   ],
   "source": [
    "AGENT.predict({\"messages\": [\n",
    "  {\n",
    "    \"role\": \"user\",\n",
    "    \"content\": \"Which books are most often described as life-changing in the reviews?\"\n",
    "  }\n",
    "]})"
   ]
  }
 ],
 "metadata": {
  "application/vnd.databricks.v1+notebook": {
   "computePreferences": null,
   "dashboards": [],
   "environmentMetadata": {
    "base_environment": "",
    "environment_version": "2"
   },
   "inputWidgetPreferences": null,
   "language": "python",
   "notebookMetadata": {
    "pythonIndentUnit": 4
   },
   "notebookName": "amazon_book_review_agent",
   "widgets": {}
  },
  "language_info": {
   "name": "python"
  }
 },
 "nbformat": 4,
 "nbformat_minor": 0
}